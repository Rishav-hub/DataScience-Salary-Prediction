{
 "cells": [
  {
   "cell_type": "markdown",
   "id": "eaa1c60e",
   "metadata": {},
   "source": [
    "![image info](https://ineuron.ai/images/ineuron-logo.png)"
   ]
  },
  {
   "cell_type": "markdown",
   "id": "21992d67",
   "metadata": {},
   "source": [
    "## 1. Problem Statement:\n",
    "- To perform exploratory data analysis to find important insights into salaries of data science professionals."
   ]
  },
  {
   "cell_type": "markdown",
   "id": "143b13ea",
   "metadata": {},
   "source": [
    "## 2) Data Collection.\n",
    "* The Dataset is collected from https://www.kaggle.com/datasets/saurabhshahane/data-science-jobs-salaries\n",
    "* The data consists of 11 column and 607 rows."
   ]
  },
  {
   "cell_type": "markdown",
   "id": "cf2f308a",
   "metadata": {},
   "source": [
    "### 2.1 Import Data and Required Packages\n",
    "#### Importing Pandas, Numpy, Matplotlib, Seaborn and Warings Library."
   ]
  },
  {
   "cell_type": "code",
   "execution_count": 2,
   "id": "1c806a4e",
   "metadata": {},
   "outputs": [],
   "source": [
    "import pandas as pd\n",
    "import numpy as np\n",
    "import matplotlib.pyplot as plt\n",
    "import seaborn as sns\n",
    "import warnings                                                                                                                                                                                                                                                                                                                                                                                                                                                                                                                                                                                                                                                                                                                                                                                                                                                                                                                                                                                                                                                                                                                                                                                                                                                                                                                                                                                                                                                                                                                                                                                                                                                                                                                                                                                                                                                                                                                                                                                                                                                                                                                                                                                                                                                                                                                                                                                                                     \n",
    "warnings.filterwarnings(\"ignore\")\n",
    "%matplotlib inline"
   ]
  },
  {
   "cell_type": "markdown",
   "id": "038bec88",
   "metadata": {},
   "source": [
    "#### Import the CSV Data as Pandas DataFrame"
   ]
  },
  {
   "cell_type": "code",
   "execution_count": 3,
   "id": "a42d8bfc",
   "metadata": {},
   "outputs": [],
   "source": [
    "df = pd.read_csv('ds_cleaned.csv')"
   ]
  },
  {
   "cell_type": "markdown",
   "id": "f72d29ca",
   "metadata": {},
   "source": [
    "#### Show Top 5 Records"
   ]
  },
  {
   "cell_type": "code",
   "execution_count": 4,
   "id": "660e54e9",
   "metadata": {},
   "outputs": [
    {
     "data": {
      "text/html": [
       "<div>\n",
       "<style scoped>\n",
       "    .dataframe tbody tr th:only-of-type {\n",
       "        vertical-align: middle;\n",
       "    }\n",
       "\n",
       "    .dataframe tbody tr th {\n",
       "        vertical-align: top;\n",
       "    }\n",
       "\n",
       "    .dataframe thead th {\n",
       "        text-align: right;\n",
       "    }\n",
       "</style>\n",
       "<table border=\"1\" class=\"dataframe\">\n",
       "  <thead>\n",
       "    <tr style=\"text-align: right;\">\n",
       "      <th></th>\n",
       "      <th>work_year</th>\n",
       "      <th>experience_level</th>\n",
       "      <th>employment_type</th>\n",
       "      <th>job_title</th>\n",
       "      <th>salary</th>\n",
       "      <th>salary_currency</th>\n",
       "      <th>salary_in_usd</th>\n",
       "      <th>employee_residence</th>\n",
       "      <th>remote_ratio</th>\n",
       "      <th>company_location</th>\n",
       "      <th>company_size</th>\n",
       "      <th>Updated_Job_Title</th>\n",
       "    </tr>\n",
       "  </thead>\n",
       "  <tbody>\n",
       "    <tr>\n",
       "      <th>0</th>\n",
       "      <td>2020</td>\n",
       "      <td>MI</td>\n",
       "      <td>Full-time</td>\n",
       "      <td>Data Scientist</td>\n",
       "      <td>70000</td>\n",
       "      <td>EUR</td>\n",
       "      <td>79833</td>\n",
       "      <td>DE</td>\n",
       "      <td>0</td>\n",
       "      <td>DE</td>\n",
       "      <td>L</td>\n",
       "      <td>Data Scientist</td>\n",
       "    </tr>\n",
       "    <tr>\n",
       "      <th>1</th>\n",
       "      <td>2020</td>\n",
       "      <td>SE</td>\n",
       "      <td>Full-time</td>\n",
       "      <td>Machine Learning Scientist</td>\n",
       "      <td>260000</td>\n",
       "      <td>USD</td>\n",
       "      <td>260000</td>\n",
       "      <td>Others</td>\n",
       "      <td>0</td>\n",
       "      <td>Others</td>\n",
       "      <td>S</td>\n",
       "      <td>Machine Learning Engineer</td>\n",
       "    </tr>\n",
       "    <tr>\n",
       "      <th>2</th>\n",
       "      <td>2020</td>\n",
       "      <td>SE</td>\n",
       "      <td>Full-time</td>\n",
       "      <td>Big Data Engineer</td>\n",
       "      <td>85000</td>\n",
       "      <td>GBP</td>\n",
       "      <td>109024</td>\n",
       "      <td>GB</td>\n",
       "      <td>50</td>\n",
       "      <td>GB</td>\n",
       "      <td>M</td>\n",
       "      <td>Data Engineer</td>\n",
       "    </tr>\n",
       "    <tr>\n",
       "      <th>3</th>\n",
       "      <td>2020</td>\n",
       "      <td>MI</td>\n",
       "      <td>Full-time</td>\n",
       "      <td>Product Data Analyst</td>\n",
       "      <td>20000</td>\n",
       "      <td>USD</td>\n",
       "      <td>20000</td>\n",
       "      <td>Others</td>\n",
       "      <td>0</td>\n",
       "      <td>Others</td>\n",
       "      <td>S</td>\n",
       "      <td>Data Analyst</td>\n",
       "    </tr>\n",
       "    <tr>\n",
       "      <th>4</th>\n",
       "      <td>2020</td>\n",
       "      <td>SE</td>\n",
       "      <td>Full-time</td>\n",
       "      <td>Machine Learning Engineer</td>\n",
       "      <td>150000</td>\n",
       "      <td>USD</td>\n",
       "      <td>150000</td>\n",
       "      <td>US</td>\n",
       "      <td>50</td>\n",
       "      <td>US</td>\n",
       "      <td>L</td>\n",
       "      <td>Machine Learning Engineer</td>\n",
       "    </tr>\n",
       "  </tbody>\n",
       "</table>\n",
       "</div>"
      ],
      "text/plain": [
       "   work_year experience_level employment_type                   job_title  \\\n",
       "0       2020               MI       Full-time              Data Scientist   \n",
       "1       2020               SE       Full-time  Machine Learning Scientist   \n",
       "2       2020               SE       Full-time           Big Data Engineer   \n",
       "3       2020               MI       Full-time        Product Data Analyst   \n",
       "4       2020               SE       Full-time   Machine Learning Engineer   \n",
       "\n",
       "   salary salary_currency  salary_in_usd employee_residence  remote_ratio  \\\n",
       "0   70000             EUR          79833                 DE             0   \n",
       "1  260000             USD         260000             Others             0   \n",
       "2   85000             GBP         109024                 GB            50   \n",
       "3   20000             USD          20000             Others             0   \n",
       "4  150000             USD         150000                 US            50   \n",
       "\n",
       "  company_location company_size          Updated_Job_Title  \n",
       "0               DE            L             Data Scientist  \n",
       "1           Others            S  Machine Learning Engineer  \n",
       "2               GB            M              Data Engineer  \n",
       "3           Others            S               Data Analyst  \n",
       "4               US            L  Machine Learning Engineer  "
      ]
     },
     "execution_count": 4,
     "metadata": {},
     "output_type": "execute_result"
    }
   ],
   "source": [
    "df.head(5)"
   ]
  },
  {
   "cell_type": "markdown",
   "id": "d5557681",
   "metadata": {},
   "source": [
    "#### Shape of the dataset"
   ]
  },
  {
   "cell_type": "code",
   "execution_count": 5,
   "id": "57f70dd5",
   "metadata": {},
   "outputs": [
    {
     "data": {
      "text/plain": [
       "(607, 12)"
      ]
     },
     "execution_count": 5,
     "metadata": {},
     "output_type": "execute_result"
    }
   ],
   "source": [
    "df.shape"
   ]
  },
  {
   "cell_type": "markdown",
   "id": "d77a4f56",
   "metadata": {},
   "source": [
    "#### Summary of the dataset"
   ]
  },
  {
   "cell_type": "code",
   "execution_count": 6,
   "id": "28ec5be1",
   "metadata": {},
   "outputs": [
    {
     "data": {
      "text/html": [
       "<div>\n",
       "<style scoped>\n",
       "    .dataframe tbody tr th:only-of-type {\n",
       "        vertical-align: middle;\n",
       "    }\n",
       "\n",
       "    .dataframe tbody tr th {\n",
       "        vertical-align: top;\n",
       "    }\n",
       "\n",
       "    .dataframe thead th {\n",
       "        text-align: right;\n",
       "    }\n",
       "</style>\n",
       "<table border=\"1\" class=\"dataframe\">\n",
       "  <thead>\n",
       "    <tr style=\"text-align: right;\">\n",
       "      <th></th>\n",
       "      <th>work_year</th>\n",
       "      <th>salary</th>\n",
       "      <th>salary_in_usd</th>\n",
       "      <th>remote_ratio</th>\n",
       "    </tr>\n",
       "  </thead>\n",
       "  <tbody>\n",
       "    <tr>\n",
       "      <th>count</th>\n",
       "      <td>607.000000</td>\n",
       "      <td>6.070000e+02</td>\n",
       "      <td>607.000000</td>\n",
       "      <td>607.00000</td>\n",
       "    </tr>\n",
       "    <tr>\n",
       "      <th>mean</th>\n",
       "      <td>2021.405272</td>\n",
       "      <td>3.240001e+05</td>\n",
       "      <td>112297.869852</td>\n",
       "      <td>70.92257</td>\n",
       "    </tr>\n",
       "    <tr>\n",
       "      <th>std</th>\n",
       "      <td>0.692133</td>\n",
       "      <td>1.544357e+06</td>\n",
       "      <td>70957.259411</td>\n",
       "      <td>40.70913</td>\n",
       "    </tr>\n",
       "    <tr>\n",
       "      <th>min</th>\n",
       "      <td>2020.000000</td>\n",
       "      <td>4.000000e+03</td>\n",
       "      <td>2859.000000</td>\n",
       "      <td>0.00000</td>\n",
       "    </tr>\n",
       "    <tr>\n",
       "      <th>25%</th>\n",
       "      <td>2021.000000</td>\n",
       "      <td>7.000000e+04</td>\n",
       "      <td>62726.000000</td>\n",
       "      <td>50.00000</td>\n",
       "    </tr>\n",
       "    <tr>\n",
       "      <th>50%</th>\n",
       "      <td>2022.000000</td>\n",
       "      <td>1.150000e+05</td>\n",
       "      <td>101570.000000</td>\n",
       "      <td>100.00000</td>\n",
       "    </tr>\n",
       "    <tr>\n",
       "      <th>75%</th>\n",
       "      <td>2022.000000</td>\n",
       "      <td>1.650000e+05</td>\n",
       "      <td>150000.000000</td>\n",
       "      <td>100.00000</td>\n",
       "    </tr>\n",
       "    <tr>\n",
       "      <th>max</th>\n",
       "      <td>2022.000000</td>\n",
       "      <td>3.040000e+07</td>\n",
       "      <td>600000.000000</td>\n",
       "      <td>100.00000</td>\n",
       "    </tr>\n",
       "  </tbody>\n",
       "</table>\n",
       "</div>"
      ],
      "text/plain": [
       "         work_year        salary  salary_in_usd  remote_ratio\n",
       "count   607.000000  6.070000e+02     607.000000     607.00000\n",
       "mean   2021.405272  3.240001e+05  112297.869852      70.92257\n",
       "std       0.692133  1.544357e+06   70957.259411      40.70913\n",
       "min    2020.000000  4.000000e+03    2859.000000       0.00000\n",
       "25%    2021.000000  7.000000e+04   62726.000000      50.00000\n",
       "50%    2022.000000  1.150000e+05  101570.000000     100.00000\n",
       "75%    2022.000000  1.650000e+05  150000.000000     100.00000\n",
       "max    2022.000000  3.040000e+07  600000.000000     100.00000"
      ]
     },
     "execution_count": 6,
     "metadata": {},
     "output_type": "execute_result"
    }
   ],
   "source": [
    "df.describe()"
   ]
  },
  {
   "cell_type": "markdown",
   "id": "f5e656e4",
   "metadata": {},
   "source": [
    "#### Check Datatypes in the dataset"
   ]
  },
  {
   "cell_type": "code",
   "execution_count": 7,
   "id": "b4bab2a5",
   "metadata": {},
   "outputs": [
    {
     "name": "stdout",
     "output_type": "stream",
     "text": [
      "<class 'pandas.core.frame.DataFrame'>\n",
      "RangeIndex: 607 entries, 0 to 606\n",
      "Data columns (total 12 columns):\n",
      " #   Column              Non-Null Count  Dtype \n",
      "---  ------              --------------  ----- \n",
      " 0   work_year           607 non-null    int64 \n",
      " 1   experience_level    607 non-null    object\n",
      " 2   employment_type     607 non-null    object\n",
      " 3   job_title           607 non-null    object\n",
      " 4   salary              607 non-null    int64 \n",
      " 5   salary_currency     607 non-null    object\n",
      " 6   salary_in_usd       607 non-null    int64 \n",
      " 7   employee_residence  607 non-null    object\n",
      " 8   remote_ratio        607 non-null    int64 \n",
      " 9   company_location    607 non-null    object\n",
      " 10  company_size        607 non-null    object\n",
      " 11  Updated_Job_Title   607 non-null    object\n",
      "dtypes: int64(4), object(8)\n",
      "memory usage: 57.0+ KB\n"
     ]
    }
   ],
   "source": [
    "df.info()"
   ]
  },
  {
   "cell_type": "code",
   "execution_count": 8,
   "id": "0d286c4c",
   "metadata": {},
   "outputs": [],
   "source": [
    "numeric_features = ['salary']"
   ]
  },
  {
   "cell_type": "code",
   "execution_count": 9,
   "id": "7d3faafa",
   "metadata": {},
   "outputs": [],
   "source": [
    "num_df = df[numeric_features]"
   ]
  },
  {
   "cell_type": "markdown",
   "id": "dc73d3af",
   "metadata": {},
   "source": [
    "#### Assumptions of ANOVA\n",
    "- The different groups/levels must have equal sample sizes.\n",
    "- An ANOVA can only be conducted if the dependent variable is normally distributed.\n",
    "- Population variances must be equal (i.e. homoscedastic). Homogeneity of variance means that the deviation of scores (measured by the range or standard deviation for example) is similar between populations."
   ]
  },
  {
   "cell_type": "markdown",
   "id": "cd08d9a4",
   "metadata": {},
   "source": [
    "#### Check normally distribution of dependent variable ie. Salary Using Visualization"
   ]
  },
  {
   "cell_type": "code",
   "execution_count": 10,
   "id": "7860efaf",
   "metadata": {},
   "outputs": [
    {
     "data": {
      "image/png": "[encoded data removed]",
      "text/plain": [
       "<Figure size 1440x864 with 6 Axes>"
      ]
     },
     "metadata": {
      "needs_background": "light"
     },
     "output_type": "display_data"
    }
   ],
   "source": [
    "from scipy.stats import boxcox\n",
    "for col in num_df.columns:\n",
    "    normal = df[col]\n",
    "    transforms = [[normal, 'Normal', 'lightblue'], \n",
    "                  [(normal+1).transform(np.log), 'Log Transform', 'lightgreen'], \n",
    "                  [boxcox(normal+1)[0], 'Box Cox', 'pink']]\n",
    "    fig, axes = plt.subplots(2, len(transforms), figsize=(20, 12))\n",
    "    \n",
    "    for ax in axes[0]:\n",
    "        transform = transforms[list(axes[0]).index(ax)]\n",
    "        pd.DataFrame(transform[0]).hist(ax=ax, color=transform[2])\n",
    "        ax.set_title('')\n",
    "        ax.set_xlabel(transform[1], fontsize=15)\n",
    "        \n",
    "        deciles = pd.Series(transform[0]).quantile([.1, .2, .3, .4, .5, .6, .7, .8, .9])\n",
    "        for pos in np.array(deciles).reshape(1, -1)[0]:\n",
    "            handle = ax.axvline(pos, color='darkblue', linewidth=1)\n",
    "        ax.legend([handle], ['deciles'])\n",
    "        \n",
    "    for ax in axes[1]:\n",
    "        transform = transforms[list(axes[1]).index(ax)]\n",
    "        ax.boxplot(transform[0])\n",
    "        ax.set_title('')\n",
    "        ax.set_xlabel(transform[1], fontsize=15)\n",
    "        \n",
    "    axes[0][int(np.floor(len(transforms)/2))].set_title(col, pad=25, fontsize=30)\n",
    "    plt.show()"
   ]
  },
  {
   "cell_type": "code",
   "execution_count": 11,
   "id": "328c4d1f",
   "metadata": {},
   "outputs": [
    {
     "name": "stdout",
     "output_type": "stream",
     "text": [
      "BEFORE mu salary : 324000.0626029654, sigma salary : 1543084.8391295222\n",
      "AFTER mu salary : 4.827002411293989, sigma salary : 0.11356298599462843\n"
     ]
    },
    {
     "data": {
      "image/png": "[encoded data removed]",
      "text/plain": [
       "<Figure size 1080x288 with 2 Axes>"
      ]
     },
     "metadata": {
      "needs_background": "light"
     },
     "output_type": "display_data"
    }
   ],
   "source": [
    "from scipy.stats import norm, skew, boxcox,yeojohnson\n",
    "for i in numeric_features:\n",
    "    plt.figure(figsize=(15,4))\n",
    "    plt.subplot(121)\n",
    "    sns.set_style('darkgrid')\n",
    "    sns.distplot(df[i], fit = norm)\n",
    "    plt.title('Skewed')\n",
    "    (mu, sigma) = norm.fit(df[i])\n",
    "    print(\"BEFORE mu {} : {}, sigma {} : {}\".format(i, mu, i, sigma))\n",
    "    \n",
    "    plt.subplot(122)\n",
    "    df[i], lam = boxcox(df[i]+0.0001)\n",
    "    sns.set_style('darkgrid')\n",
    "    sns.distplot(df[i], fit = norm)\n",
    "    plt.title('Transformed')\n",
    "    (mu, sigma) = norm.fit(df[i])\n",
    "    print(\"AFTER mu {} : {}, sigma {} : {}\".format(i, mu, i, sigma))\n",
    "    \n",
    "    plt.show()"
   ]
  },
  {
   "cell_type": "markdown",
   "id": "909c87a2",
   "metadata": {},
   "source": [
    "#### Insights\n",
    "- After comparision we can see Box Cox transformation is performing best."
   ]
  },
  {
   "cell_type": "code",
   "execution_count": 12,
   "id": "cf5387fd",
   "metadata": {},
   "outputs": [
    {
     "data": {
      "text/plain": [
       "[<matplotlib.lines.Line2D at 0x1934c237fa0>,\n",
       " <matplotlib.lines.Line2D at 0x1934c243370>]"
      ]
     },
     "execution_count": 12,
     "metadata": {},
     "output_type": "execute_result"
    },
    {
     "data": {
      "image/png": "[encoded data removed]",
      "text/plain": [
       "<Figure size 432x288 with 1 Axes>"
      ]
     },
     "metadata": {},
     "output_type": "display_data"
    }
   ],
   "source": [
    "from statsmodels.graphics.gofplots import qqplot\n",
    "qqplot(df['salary_in_usd'], line='s').gca().lines"
   ]
  },
  {
   "cell_type": "code",
   "execution_count": 13,
   "id": "7b06a583",
   "metadata": {},
   "outputs": [],
   "source": [
    "from scipy import stats\n",
    "from scipy.stats import shapiro\n",
    "from scipy.stats import normaltest\n",
    "from scipy.stats import levene"
   ]
  },
  {
   "cell_type": "markdown",
   "id": "44d57e18",
   "metadata": {},
   "source": [
    "#### Shapiro Wick Test\n",
    "- The Shapiro-Wilk test is a way to tell if a random sample comes from a normal distribution.\n",
    "-  Ho : Sample is normally distributed\n",
    "-  H1 : Sample is not normally distributed"
   ]
  },
  {
   "cell_type": "code",
   "execution_count": 14,
   "id": "e7d5e1f0",
   "metadata": {},
   "outputs": [
    {
     "name": "stdout",
     "output_type": "stream",
     "text": [
      "Sample does not look Gaussian (reject H0)\n"
     ]
    }
   ],
   "source": [
    "stat, p = shapiro(df['salary_in_usd'])\n",
    "# interpret\n",
    "alpha = 0.05\n",
    "if p > alpha:\n",
    "    msg = 'Sample looks Gaussian (fail to reject H0)'\n",
    "else:\n",
    "    msg = 'Sample does not look Gaussian (reject H0)'\n",
    "print(msg)"
   ]
  },
  {
   "cell_type": "markdown",
   "id": "d402ed34",
   "metadata": {},
   "source": [
    "#### K^2 Normality Test\n",
    "- Test aims to establish whether or not the given sample comes from a normally distributed population. Test is based on transformations of the sample kurtosis and skewness\n",
    "    - Ho : Data is normally distributed\n",
    "    - H1 : Data is not normally distributed"
   ]
  },
  {
   "cell_type": "code",
   "execution_count": 15,
   "id": "831ada64",
   "metadata": {},
   "outputs": [
    {
     "name": "stdout",
     "output_type": "stream",
     "text": [
      "Sample does not look Gaussian (reject H0)\n"
     ]
    }
   ],
   "source": [
    "stat, p = normaltest(df['salary_in_usd'])\n",
    "# interpret\n",
    "alpha = 0.05\n",
    "if p > alpha:\n",
    "    msg = 'Sample looks Gaussian (fail to reject H0)'\n",
    "else:\n",
    "    msg = 'Sample does not look Gaussian (reject H0)'\n",
    "print(msg)"
   ]
  },
  {
   "cell_type": "markdown",
   "id": "7b9646bc",
   "metadata": {},
   "source": [
    "#### Transform  data & save lambda value"
   ]
  },
  {
   "cell_type": "code",
   "execution_count": 16,
   "id": "98ac960b",
   "metadata": {},
   "outputs": [],
   "source": [
    "fitted_data, fitted_lambda = stats.boxcox(np.log(df['salary_in_usd']))\n",
    "df['transformed_salary_in_usd']=pd.Series(fitted_data)"
   ]
  },
  {
   "cell_type": "markdown",
   "id": "54e35550",
   "metadata": {},
   "source": [
    "#### ANOVA test can be applied by normalising the data with the box-cox transformation"
   ]
  },
  {
   "cell_type": "code",
   "execution_count": 17,
   "id": "a7358c0a",
   "metadata": {},
   "outputs": [
    {
     "data": {
      "image/png": "[encoded data removed]",
      "text/plain": [
       "<Figure size 432x288 with 1 Axes>"
      ]
     },
     "metadata": {},
     "output_type": "display_data"
    }
   ],
   "source": [
    "qqplot_data = qqplot(df['transformed_salary_in_usd'], line='s').gca().lines"
   ]
  },
  {
   "cell_type": "code",
   "execution_count": 18,
   "id": "fde9af0b",
   "metadata": {},
   "outputs": [
    {
     "name": "stdout",
     "output_type": "stream",
     "text": [
      "Sample looks Gaussian (fail to reject H0)\n"
     ]
    }
   ],
   "source": [
    "stat, p = normaltest(df['transformed_salary_in_usd'])\n",
    "# interpret\n",
    "alpha = 0.05\n",
    "if p > alpha:\n",
    "    msg = 'Sample looks Gaussian (fail to reject H0)'\n",
    "else:\n",
    "    msg = 'Sample does not look Gaussian (reject H0)'\n",
    "print(msg)"
   ]
  },
  {
   "cell_type": "markdown",
   "id": "8091b5c6",
   "metadata": {},
   "source": [
    "#### Insights\n",
    "- After the Box-cox transformation, it seems that the data converges more to the normal than before.\n",
    "- In this state, the ANOVA technique can be applied to the data."
   ]
  },
  {
   "cell_type": "markdown",
   "id": "9c45e00e",
   "metadata": {},
   "source": [
    "#### Point-Plot\n",
    "- Displays mean of categorical column(X-axis, Experience_level) with numerical column(Y-axis, Salary)"
   ]
  },
  {
   "cell_type": "code",
   "execution_count": 19,
   "id": "596f10ed",
   "metadata": {},
   "outputs": [
    {
     "data": {
      "text/plain": [
       "<AxesSubplot:xlabel='experience_level', ylabel='transformed_salary_in_usd'>"
      ]
     },
     "execution_count": 19,
     "metadata": {},
     "output_type": "execute_result"
    },
    {
     "data": {
      "image/png": "[encoded data removed]",
      "text/plain": [
       "<Figure size 1800x1080 with 1 Axes>"
      ]
     },
     "metadata": {},
     "output_type": "display_data"
    }
   ],
   "source": [
    "sns.set(rc={\"figure.figsize\":(25, 15)})\n",
    "sns.pointplot(data=df, x='experience_level', y='transformed_salary_in_usd', hue='Updated_Job_Title', dodge=True, markers=['o', 's', '^', 'p', '*', 'X', 'd', '8'], capsize=.1, errwidth=1, palette='colorblind')"
   ]
  },
  {
   "cell_type": "markdown",
   "id": "1ea9e72c",
   "metadata": {},
   "source": [
    "#### Insights\n",
    "- Job type and experience level are the 2 features we can choose for ANNOVA test.\n",
    "- They seem to differ from each other in the graph which tells the groups will differ significantly in terms of means.\n",
    "- The curves in the graph intersect each other at more than one point, in other words, they do not show parallelism with each other."
   ]
  },
  {
   "cell_type": "markdown",
   "id": "8f8cd075",
   "metadata": {},
   "source": [
    "#### Variance Homogenity(Levene's Test)\n",
    "- **Equality of variance test**\n",
    "- Ho : Female and male have equal variance\n",
    "- H1 : Female and male do not have equal variance"
   ]
  },
  {
   "cell_type": "code",
   "execution_count": 20,
   "id": "0904caf1",
   "metadata": {},
   "outputs": [
    {
     "name": "stdout",
     "output_type": "stream",
     "text": [
      "Job type levene test: 3.977936901147416 0.0034051940871168617\n"
     ]
    }
   ],
   "source": [
    "Data_Scientist = df[df['Updated_Job_Title']=='Data Scientist']['transformed_salary_in_usd']\n",
    "Machine_Learning_Engineer = df[df['Updated_Job_Title']=='Machine Learning Engineer']['transformed_salary_in_usd']\n",
    "Data_Engineer = df[df['Updated_Job_Title']=='Data Engineer']['transformed_salary_in_usd']\n",
    "Data_Analyst = df[df['Updated_Job_Title']=='Data Analyst']['transformed_salary_in_usd']\n",
    "Manager = df[df['Updated_Job_Title']=='Manager']['transformed_salary_in_usd']\n",
    "\n",
    "stat_jobtype, p_value_jobtype = levene(Data_Scientist, Machine_Learning_Engineer, Data_Engineer , Data_Analyst,Manager, center='median')\n",
    "print('Job type levene test:', stat_jobtype, p_value_jobtype)"
   ]
  },
  {
   "cell_type": "code",
   "execution_count": 21,
   "id": "d2c5ecc5",
   "metadata": {},
   "outputs": [
    {
     "name": "stdout",
     "output_type": "stream",
     "text": [
      "Experience level levene test: 3.897314585098836 0.00892970340907589\n"
     ]
    }
   ],
   "source": [
    "\n",
    "Midlevel = df[df['experience_level']=='MI']['transformed_salary_in_usd']\n",
    "Seniorlevel = df[df['experience_level']=='SE']['transformed_salary_in_usd']\n",
    "Entrylevel = df[df['experience_level']=='EN']['transformed_salary_in_usd']\n",
    "Executivelevel = df[df['experience_level']=='EX']['transformed_salary_in_usd']\n",
    "\n",
    "stat_experiencelevel, p_value_experiencelevel = levene(Midlevel, Seniorlevel, Entrylevel, Executivelevel, center='median')\n",
    "print('Experience level levene test:', stat_experiencelevel, p_value_experiencelevel)"
   ]
  },
  {
   "cell_type": "markdown",
   "id": "eda87ff6",
   "metadata": {},
   "source": [
    "#### Insights\n",
    "- For both job type and experience_level variable, the variances between the groups are equal.\n",
    "- As both p values are lesser than significance value ie. 0.05"
   ]
  },
  {
   "cell_type": "code",
   "execution_count": 22,
   "id": "948ab926",
   "metadata": {},
   "outputs": [
    {
     "data": {
      "text/html": [
       "<div>\n",
       "<style scoped>\n",
       "    .dataframe tbody tr th:only-of-type {\n",
       "        vertical-align: middle;\n",
       "    }\n",
       "\n",
       "    .dataframe tbody tr th {\n",
       "        vertical-align: top;\n",
       "    }\n",
       "\n",
       "    .dataframe thead th {\n",
       "        text-align: right;\n",
       "    }\n",
       "</style>\n",
       "<table border=\"1\" class=\"dataframe\">\n",
       "  <thead>\n",
       "    <tr style=\"text-align: right;\">\n",
       "      <th></th>\n",
       "      <th>work_year</th>\n",
       "      <th>experience_level</th>\n",
       "      <th>employment_type</th>\n",
       "      <th>job_title</th>\n",
       "      <th>salary</th>\n",
       "      <th>salary_currency</th>\n",
       "      <th>salary_in_usd</th>\n",
       "      <th>employee_residence</th>\n",
       "      <th>remote_ratio</th>\n",
       "      <th>company_location</th>\n",
       "      <th>company_size</th>\n",
       "      <th>Updated_Job_Title</th>\n",
       "      <th>transformed_salary_in_usd</th>\n",
       "    </tr>\n",
       "  </thead>\n",
       "  <tbody>\n",
       "    <tr>\n",
       "      <th>0</th>\n",
       "      <td>2020</td>\n",
       "      <td>MI</td>\n",
       "      <td>Full-time</td>\n",
       "      <td>Data Scientist</td>\n",
       "      <td>4.774751</td>\n",
       "      <td>EUR</td>\n",
       "      <td>79833</td>\n",
       "      <td>DE</td>\n",
       "      <td>0</td>\n",
       "      <td>DE</td>\n",
       "      <td>L</td>\n",
       "      <td>Data Scientist</td>\n",
       "      <td>282298.507798</td>\n",
       "    </tr>\n",
       "    <tr>\n",
       "      <th>1</th>\n",
       "      <td>2020</td>\n",
       "      <td>SE</td>\n",
       "      <td>Full-time</td>\n",
       "      <td>Machine Learning Scientist</td>\n",
       "      <td>4.928142</td>\n",
       "      <td>USD</td>\n",
       "      <td>260000</td>\n",
       "      <td>Others</td>\n",
       "      <td>0</td>\n",
       "      <td>Others</td>\n",
       "      <td>S</td>\n",
       "      <td>Machine Learning Engineer</td>\n",
       "      <td>508303.346029</td>\n",
       "    </tr>\n",
       "    <tr>\n",
       "      <th>2</th>\n",
       "      <td>2020</td>\n",
       "      <td>SE</td>\n",
       "      <td>Full-time</td>\n",
       "      <td>Big Data Engineer</td>\n",
       "      <td>4.799819</td>\n",
       "      <td>GBP</td>\n",
       "      <td>109024</td>\n",
       "      <td>GB</td>\n",
       "      <td>50</td>\n",
       "      <td>GB</td>\n",
       "      <td>M</td>\n",
       "      <td>Data Engineer</td>\n",
       "      <td>331608.782411</td>\n",
       "    </tr>\n",
       "    <tr>\n",
       "      <th>3</th>\n",
       "      <td>2020</td>\n",
       "      <td>MI</td>\n",
       "      <td>Full-time</td>\n",
       "      <td>Product Data Analyst</td>\n",
       "      <td>4.589866</td>\n",
       "      <td>USD</td>\n",
       "      <td>20000</td>\n",
       "      <td>Others</td>\n",
       "      <td>0</td>\n",
       "      <td>Others</td>\n",
       "      <td>S</td>\n",
       "      <td>Data Analyst</td>\n",
       "      <td>130268.251078</td>\n",
       "    </tr>\n",
       "    <tr>\n",
       "      <th>4</th>\n",
       "      <td>2020</td>\n",
       "      <td>SE</td>\n",
       "      <td>Full-time</td>\n",
       "      <td>Machine Learning Engineer</td>\n",
       "      <td>4.868267</td>\n",
       "      <td>USD</td>\n",
       "      <td>150000</td>\n",
       "      <td>US</td>\n",
       "      <td>50</td>\n",
       "      <td>US</td>\n",
       "      <td>L</td>\n",
       "      <td>Machine Learning Engineer</td>\n",
       "      <td>389306.822476</td>\n",
       "    </tr>\n",
       "  </tbody>\n",
       "</table>\n",
       "</div>"
      ],
      "text/plain": [
       "   work_year experience_level employment_type                   job_title  \\\n",
       "0       2020               MI       Full-time              Data Scientist   \n",
       "1       2020               SE       Full-time  Machine Learning Scientist   \n",
       "2       2020               SE       Full-time           Big Data Engineer   \n",
       "3       2020               MI       Full-time        Product Data Analyst   \n",
       "4       2020               SE       Full-time   Machine Learning Engineer   \n",
       "\n",
       "     salary salary_currency  salary_in_usd employee_residence  remote_ratio  \\\n",
       "0  4.774751             EUR          79833                 DE             0   \n",
       "1  4.928142             USD         260000             Others             0   \n",
       "2  4.799819             GBP         109024                 GB            50   \n",
       "3  4.589866             USD          20000             Others             0   \n",
       "4  4.868267             USD         150000                 US            50   \n",
       "\n",
       "  company_location company_size          Updated_Job_Title  \\\n",
       "0               DE            L             Data Scientist   \n",
       "1           Others            S  Machine Learning Engineer   \n",
       "2               GB            M              Data Engineer   \n",
       "3           Others            S               Data Analyst   \n",
       "4               US            L  Machine Learning Engineer   \n",
       "\n",
       "   transformed_salary_in_usd  \n",
       "0              282298.507798  \n",
       "1              508303.346029  \n",
       "2              331608.782411  \n",
       "3              130268.251078  \n",
       "4              389306.822476  "
      ]
     },
     "execution_count": 22,
     "metadata": {},
     "output_type": "execute_result"
    }
   ],
   "source": [
    "df.head()"
   ]
  },
  {
   "cell_type": "code",
   "execution_count": 23,
   "id": "fdc7eb08",
   "metadata": {},
   "outputs": [
    {
     "name": "stdout",
     "output_type": "stream",
     "text": [
      "<class 'pandas.core.frame.DataFrame'>\n",
      "RangeIndex: 607 entries, 0 to 606\n",
      "Data columns (total 13 columns):\n",
      " #   Column                     Non-Null Count  Dtype  \n",
      "---  ------                     --------------  -----  \n",
      " 0   work_year                  607 non-null    int64  \n",
      " 1   experience_level           607 non-null    object \n",
      " 2   employment_type            607 non-null    object \n",
      " 3   job_title                  607 non-null    object \n",
      " 4   salary                     607 non-null    float64\n",
      " 5   salary_currency            607 non-null    object \n",
      " 6   salary_in_usd              607 non-null    int64  \n",
      " 7   employee_residence         607 non-null    object \n",
      " 8   remote_ratio               607 non-null    int64  \n",
      " 9   company_location           607 non-null    object \n",
      " 10  company_size               607 non-null    object \n",
      " 11  Updated_Job_Title          607 non-null    object \n",
      " 12  transformed_salary_in_usd  607 non-null    float64\n",
      "dtypes: float64(2), int64(3), object(8)\n",
      "memory usage: 61.8+ KB\n"
     ]
    }
   ],
   "source": [
    "df.info()"
   ]
  },
  {
   "cell_type": "code",
   "execution_count": 24,
   "id": "6fb0fea0",
   "metadata": {},
   "outputs": [
    {
     "data": {
      "text/html": [
       "<div>\n",
       "<style scoped>\n",
       "    .dataframe tbody tr th:only-of-type {\n",
       "        vertical-align: middle;\n",
       "    }\n",
       "\n",
       "    .dataframe tbody tr th {\n",
       "        vertical-align: top;\n",
       "    }\n",
       "\n",
       "    .dataframe thead th {\n",
       "        text-align: right;\n",
       "    }\n",
       "</style>\n",
       "<table border=\"1\" class=\"dataframe\">\n",
       "  <thead>\n",
       "    <tr style=\"text-align: right;\">\n",
       "      <th></th>\n",
       "      <th>work_year</th>\n",
       "      <th>experience_level</th>\n",
       "      <th>employment_type</th>\n",
       "      <th>job_title</th>\n",
       "      <th>salary</th>\n",
       "      <th>salary_currency</th>\n",
       "      <th>salary_in_usd</th>\n",
       "      <th>employee_residence</th>\n",
       "      <th>remote_ratio</th>\n",
       "      <th>company_location</th>\n",
       "      <th>company_size</th>\n",
       "      <th>Updated_Job_Title</th>\n",
       "      <th>transformed_salary_in_usd</th>\n",
       "    </tr>\n",
       "  </thead>\n",
       "  <tbody>\n",
       "    <tr>\n",
       "      <th>0</th>\n",
       "      <td>2020</td>\n",
       "      <td>MI</td>\n",
       "      <td>Full-time</td>\n",
       "      <td>Data Scientist</td>\n",
       "      <td>4.774751</td>\n",
       "      <td>EUR</td>\n",
       "      <td>79833</td>\n",
       "      <td>DE</td>\n",
       "      <td>0</td>\n",
       "      <td>DE</td>\n",
       "      <td>L</td>\n",
       "      <td>Data Scientist</td>\n",
       "      <td>282298.507798</td>\n",
       "    </tr>\n",
       "    <tr>\n",
       "      <th>1</th>\n",
       "      <td>2020</td>\n",
       "      <td>SE</td>\n",
       "      <td>Full-time</td>\n",
       "      <td>Machine Learning Scientist</td>\n",
       "      <td>4.928142</td>\n",
       "      <td>USD</td>\n",
       "      <td>260000</td>\n",
       "      <td>Others</td>\n",
       "      <td>0</td>\n",
       "      <td>Others</td>\n",
       "      <td>S</td>\n",
       "      <td>Machine Learning Engineer</td>\n",
       "      <td>508303.346029</td>\n",
       "    </tr>\n",
       "    <tr>\n",
       "      <th>2</th>\n",
       "      <td>2020</td>\n",
       "      <td>SE</td>\n",
       "      <td>Full-time</td>\n",
       "      <td>Big Data Engineer</td>\n",
       "      <td>4.799819</td>\n",
       "      <td>GBP</td>\n",
       "      <td>109024</td>\n",
       "      <td>GB</td>\n",
       "      <td>50</td>\n",
       "      <td>GB</td>\n",
       "      <td>M</td>\n",
       "      <td>Data Engineer</td>\n",
       "      <td>331608.782411</td>\n",
       "    </tr>\n",
       "    <tr>\n",
       "      <th>3</th>\n",
       "      <td>2020</td>\n",
       "      <td>MI</td>\n",
       "      <td>Full-time</td>\n",
       "      <td>Product Data Analyst</td>\n",
       "      <td>4.589866</td>\n",
       "      <td>USD</td>\n",
       "      <td>20000</td>\n",
       "      <td>Others</td>\n",
       "      <td>0</td>\n",
       "      <td>Others</td>\n",
       "      <td>S</td>\n",
       "      <td>Data Analyst</td>\n",
       "      <td>130268.251078</td>\n",
       "    </tr>\n",
       "    <tr>\n",
       "      <th>4</th>\n",
       "      <td>2020</td>\n",
       "      <td>SE</td>\n",
       "      <td>Full-time</td>\n",
       "      <td>Machine Learning Engineer</td>\n",
       "      <td>4.868267</td>\n",
       "      <td>USD</td>\n",
       "      <td>150000</td>\n",
       "      <td>US</td>\n",
       "      <td>50</td>\n",
       "      <td>US</td>\n",
       "      <td>L</td>\n",
       "      <td>Machine Learning Engineer</td>\n",
       "      <td>389306.822476</td>\n",
       "    </tr>\n",
       "    <tr>\n",
       "      <th>...</th>\n",
       "      <td>...</td>\n",
       "      <td>...</td>\n",
       "      <td>...</td>\n",
       "      <td>...</td>\n",
       "      <td>...</td>\n",
       "      <td>...</td>\n",
       "      <td>...</td>\n",
       "      <td>...</td>\n",
       "      <td>...</td>\n",
       "      <td>...</td>\n",
       "      <td>...</td>\n",
       "      <td>...</td>\n",
       "      <td>...</td>\n",
       "    </tr>\n",
       "    <tr>\n",
       "      <th>602</th>\n",
       "      <td>2022</td>\n",
       "      <td>SE</td>\n",
       "      <td>Full-time</td>\n",
       "      <td>Data Engineer</td>\n",
       "      <td>4.871270</td>\n",
       "      <td>USD</td>\n",
       "      <td>154000</td>\n",
       "      <td>US</td>\n",
       "      <td>100</td>\n",
       "      <td>US</td>\n",
       "      <td>M</td>\n",
       "      <td>Data Engineer</td>\n",
       "      <td>394416.152450</td>\n",
       "    </tr>\n",
       "    <tr>\n",
       "      <th>603</th>\n",
       "      <td>2022</td>\n",
       "      <td>SE</td>\n",
       "      <td>Full-time</td>\n",
       "      <td>Data Engineer</td>\n",
       "      <td>4.848002</td>\n",
       "      <td>USD</td>\n",
       "      <td>126000</td>\n",
       "      <td>US</td>\n",
       "      <td>100</td>\n",
       "      <td>US</td>\n",
       "      <td>M</td>\n",
       "      <td>Data Engineer</td>\n",
       "      <td>356826.985196</td>\n",
       "    </tr>\n",
       "    <tr>\n",
       "      <th>604</th>\n",
       "      <td>2022</td>\n",
       "      <td>SE</td>\n",
       "      <td>Full-time</td>\n",
       "      <td>Data Analyst</td>\n",
       "      <td>4.850775</td>\n",
       "      <td>USD</td>\n",
       "      <td>129000</td>\n",
       "      <td>US</td>\n",
       "      <td>0</td>\n",
       "      <td>US</td>\n",
       "      <td>M</td>\n",
       "      <td>Data Analyst</td>\n",
       "      <td>361074.171346</td>\n",
       "    </tr>\n",
       "    <tr>\n",
       "      <th>605</th>\n",
       "      <td>2022</td>\n",
       "      <td>SE</td>\n",
       "      <td>Full-time</td>\n",
       "      <td>Data Analyst</td>\n",
       "      <td>4.868267</td>\n",
       "      <td>USD</td>\n",
       "      <td>150000</td>\n",
       "      <td>US</td>\n",
       "      <td>100</td>\n",
       "      <td>US</td>\n",
       "      <td>M</td>\n",
       "      <td>Data Analyst</td>\n",
       "      <td>389306.822476</td>\n",
       "    </tr>\n",
       "    <tr>\n",
       "      <th>606</th>\n",
       "      <td>2022</td>\n",
       "      <td>MI</td>\n",
       "      <td>Full-time</td>\n",
       "      <td>AI Scientist</td>\n",
       "      <td>4.900329</td>\n",
       "      <td>USD</td>\n",
       "      <td>200000</td>\n",
       "      <td>IN</td>\n",
       "      <td>100</td>\n",
       "      <td>US</td>\n",
       "      <td>L</td>\n",
       "      <td>Data Scientist</td>\n",
       "      <td>448254.460486</td>\n",
       "    </tr>\n",
       "  </tbody>\n",
       "</table>\n",
       "<p>607 rows × 13 columns</p>\n",
       "</div>"
      ],
      "text/plain": [
       "     work_year experience_level employment_type                   job_title  \\\n",
       "0         2020               MI       Full-time              Data Scientist   \n",
       "1         2020               SE       Full-time  Machine Learning Scientist   \n",
       "2         2020               SE       Full-time           Big Data Engineer   \n",
       "3         2020               MI       Full-time        Product Data Analyst   \n",
       "4         2020               SE       Full-time   Machine Learning Engineer   \n",
       "..         ...              ...             ...                         ...   \n",
       "602       2022               SE       Full-time               Data Engineer   \n",
       "603       2022               SE       Full-time               Data Engineer   \n",
       "604       2022               SE       Full-time                Data Analyst   \n",
       "605       2022               SE       Full-time                Data Analyst   \n",
       "606       2022               MI       Full-time                AI Scientist   \n",
       "\n",
       "       salary salary_currency  salary_in_usd employee_residence  remote_ratio  \\\n",
       "0    4.774751             EUR          79833                 DE             0   \n",
       "1    4.928142             USD         260000             Others             0   \n",
       "2    4.799819             GBP         109024                 GB            50   \n",
       "3    4.589866             USD          20000             Others             0   \n",
       "4    4.868267             USD         150000                 US            50   \n",
       "..        ...             ...            ...                ...           ...   \n",
       "602  4.871270             USD         154000                 US           100   \n",
       "603  4.848002             USD         126000                 US           100   \n",
       "604  4.850775             USD         129000                 US             0   \n",
       "605  4.868267             USD         150000                 US           100   \n",
       "606  4.900329             USD         200000                 IN           100   \n",
       "\n",
       "    company_location company_size          Updated_Job_Title  \\\n",
       "0                 DE            L             Data Scientist   \n",
       "1             Others            S  Machine Learning Engineer   \n",
       "2                 GB            M              Data Engineer   \n",
       "3             Others            S               Data Analyst   \n",
       "4                 US            L  Machine Learning Engineer   \n",
       "..               ...          ...                        ...   \n",
       "602               US            M              Data Engineer   \n",
       "603               US            M              Data Engineer   \n",
       "604               US            M               Data Analyst   \n",
       "605               US            M               Data Analyst   \n",
       "606               US            L             Data Scientist   \n",
       "\n",
       "     transformed_salary_in_usd  \n",
       "0                282298.507798  \n",
       "1                508303.346029  \n",
       "2                331608.782411  \n",
       "3                130268.251078  \n",
       "4                389306.822476  \n",
       "..                         ...  \n",
       "602              394416.152450  \n",
       "603              356826.985196  \n",
       "604              361074.171346  \n",
       "605              389306.822476  \n",
       "606              448254.460486  \n",
       "\n",
       "[607 rows x 13 columns]"
      ]
     },
     "execution_count": 24,
     "metadata": {},
     "output_type": "execute_result"
    }
   ],
   "source": [
    "df"
   ]
  },
  {
   "cell_type": "code",
   "execution_count": 25,
   "id": "250ef6d5",
   "metadata": {},
   "outputs": [
    {
     "data": {
      "text/html": [
       "<div>\n",
       "<style scoped>\n",
       "    .dataframe tbody tr th:only-of-type {\n",
       "        vertical-align: middle;\n",
       "    }\n",
       "\n",
       "    .dataframe tbody tr th {\n",
       "        vertical-align: top;\n",
       "    }\n",
       "\n",
       "    .dataframe thead th {\n",
       "        text-align: right;\n",
       "    }\n",
       "</style>\n",
       "<table border=\"1\" class=\"dataframe\">\n",
       "  <thead>\n",
       "    <tr style=\"text-align: right;\">\n",
       "      <th></th>\n",
       "      <th>sum_sq</th>\n",
       "      <th>df</th>\n",
       "      <th>F</th>\n",
       "      <th>PR(&gt;F)</th>\n",
       "    </tr>\n",
       "  </thead>\n",
       "  <tbody>\n",
       "    <tr>\n",
       "      <th>Intercept</th>\n",
       "      <td>7.463914e+10</td>\n",
       "      <td>1.0</td>\n",
       "      <td>11.459156</td>\n",
       "      <td>7.671530e-04</td>\n",
       "    </tr>\n",
       "    <tr>\n",
       "      <th>C(job_title)</th>\n",
       "      <td>8.710417e+11</td>\n",
       "      <td>49.0</td>\n",
       "      <td>2.729159</td>\n",
       "      <td>2.001970e-08</td>\n",
       "    </tr>\n",
       "    <tr>\n",
       "      <th>C(experience_level)</th>\n",
       "      <td>6.186550e+11</td>\n",
       "      <td>3.0</td>\n",
       "      <td>31.660175</td>\n",
       "      <td>9.308803e-19</td>\n",
       "    </tr>\n",
       "    <tr>\n",
       "      <th>C(job_title):C(experience_level)</th>\n",
       "      <td>4.670480e+12</td>\n",
       "      <td>147.0</td>\n",
       "      <td>4.877869</td>\n",
       "      <td>7.305020e-30</td>\n",
       "    </tr>\n",
       "    <tr>\n",
       "      <th>Residual</th>\n",
       "      <td>3.269774e+12</td>\n",
       "      <td>502.0</td>\n",
       "      <td>NaN</td>\n",
       "      <td>NaN</td>\n",
       "    </tr>\n",
       "  </tbody>\n",
       "</table>\n",
       "</div>"
      ],
      "text/plain": [
       "                                        sum_sq     df          F        PR(>F)\n",
       "Intercept                         7.463914e+10    1.0  11.459156  7.671530e-04\n",
       "C(job_title)                      8.710417e+11   49.0   2.729159  2.001970e-08\n",
       "C(experience_level)               6.186550e+11    3.0  31.660175  9.308803e-19\n",
       "C(job_title):C(experience_level)  4.670480e+12  147.0   4.877869  7.305020e-30\n",
       "Residual                          3.269774e+12  502.0        NaN           NaN"
      ]
     },
     "execution_count": 25,
     "metadata": {},
     "output_type": "execute_result"
    }
   ],
   "source": [
    "## perform two-way ANOVA\n",
    "import statsmodels.api as sm\n",
    "from statsmodels.formula.api import ols\n",
    "model = ols('transformed_salary_in_usd ~ C(job_title) + C(experience_level) + C(job_title):C(experience_level)', data = df).fit()\n",
    "sm.stats.anova_lm(model, typ=3)"
   ]
  },
  {
   "cell_type": "code",
   "execution_count": 26,
   "id": "0f9209e6",
   "metadata": {},
   "outputs": [
    {
     "data": {
      "text/html": [
       "<div>\n",
       "<style scoped>\n",
       "    .dataframe tbody tr th:only-of-type {\n",
       "        vertical-align: middle;\n",
       "    }\n",
       "\n",
       "    .dataframe tbody tr th {\n",
       "        vertical-align: top;\n",
       "    }\n",
       "\n",
       "    .dataframe thead th {\n",
       "        text-align: right;\n",
       "    }\n",
       "</style>\n",
       "<table border=\"1\" class=\"dataframe\">\n",
       "  <thead>\n",
       "    <tr style=\"text-align: right;\">\n",
       "      <th></th>\n",
       "      <th>work_year</th>\n",
       "      <th>experience_level</th>\n",
       "      <th>employment_type</th>\n",
       "      <th>job_title</th>\n",
       "      <th>salary</th>\n",
       "      <th>salary_currency</th>\n",
       "      <th>salary_in_usd</th>\n",
       "      <th>employee_residence</th>\n",
       "      <th>remote_ratio</th>\n",
       "      <th>company_location</th>\n",
       "      <th>company_size</th>\n",
       "      <th>Updated_Job_Title</th>\n",
       "      <th>transformed_salary_in_usd</th>\n",
       "    </tr>\n",
       "  </thead>\n",
       "  <tbody>\n",
       "    <tr>\n",
       "      <th>0</th>\n",
       "      <td>2020</td>\n",
       "      <td>MI</td>\n",
       "      <td>Full-time</td>\n",
       "      <td>Data Scientist</td>\n",
       "      <td>4.774751</td>\n",
       "      <td>EUR</td>\n",
       "      <td>79833</td>\n",
       "      <td>DE</td>\n",
       "      <td>0</td>\n",
       "      <td>DE</td>\n",
       "      <td>L</td>\n",
       "      <td>Data Scientist</td>\n",
       "      <td>282298.507798</td>\n",
       "    </tr>\n",
       "    <tr>\n",
       "      <th>1</th>\n",
       "      <td>2020</td>\n",
       "      <td>SE</td>\n",
       "      <td>Full-time</td>\n",
       "      <td>Machine Learning Scientist</td>\n",
       "      <td>4.928142</td>\n",
       "      <td>USD</td>\n",
       "      <td>260000</td>\n",
       "      <td>Others</td>\n",
       "      <td>0</td>\n",
       "      <td>Others</td>\n",
       "      <td>S</td>\n",
       "      <td>Machine Learning Engineer</td>\n",
       "      <td>508303.346029</td>\n",
       "    </tr>\n",
       "    <tr>\n",
       "      <th>2</th>\n",
       "      <td>2020</td>\n",
       "      <td>SE</td>\n",
       "      <td>Full-time</td>\n",
       "      <td>Big Data Engineer</td>\n",
       "      <td>4.799819</td>\n",
       "      <td>GBP</td>\n",
       "      <td>109024</td>\n",
       "      <td>GB</td>\n",
       "      <td>50</td>\n",
       "      <td>GB</td>\n",
       "      <td>M</td>\n",
       "      <td>Data Engineer</td>\n",
       "      <td>331608.782411</td>\n",
       "    </tr>\n",
       "    <tr>\n",
       "      <th>3</th>\n",
       "      <td>2020</td>\n",
       "      <td>MI</td>\n",
       "      <td>Full-time</td>\n",
       "      <td>Product Data Analyst</td>\n",
       "      <td>4.589866</td>\n",
       "      <td>USD</td>\n",
       "      <td>20000</td>\n",
       "      <td>Others</td>\n",
       "      <td>0</td>\n",
       "      <td>Others</td>\n",
       "      <td>S</td>\n",
       "      <td>Data Analyst</td>\n",
       "      <td>130268.251078</td>\n",
       "    </tr>\n",
       "    <tr>\n",
       "      <th>4</th>\n",
       "      <td>2020</td>\n",
       "      <td>SE</td>\n",
       "      <td>Full-time</td>\n",
       "      <td>Machine Learning Engineer</td>\n",
       "      <td>4.868267</td>\n",
       "      <td>USD</td>\n",
       "      <td>150000</td>\n",
       "      <td>US</td>\n",
       "      <td>50</td>\n",
       "      <td>US</td>\n",
       "      <td>L</td>\n",
       "      <td>Machine Learning Engineer</td>\n",
       "      <td>389306.822476</td>\n",
       "    </tr>\n",
       "    <tr>\n",
       "      <th>...</th>\n",
       "      <td>...</td>\n",
       "      <td>...</td>\n",
       "      <td>...</td>\n",
       "      <td>...</td>\n",
       "      <td>...</td>\n",
       "      <td>...</td>\n",
       "      <td>...</td>\n",
       "      <td>...</td>\n",
       "      <td>...</td>\n",
       "      <td>...</td>\n",
       "      <td>...</td>\n",
       "      <td>...</td>\n",
       "      <td>...</td>\n",
       "    </tr>\n",
       "    <tr>\n",
       "      <th>602</th>\n",
       "      <td>2022</td>\n",
       "      <td>SE</td>\n",
       "      <td>Full-time</td>\n",
       "      <td>Data Engineer</td>\n",
       "      <td>4.871270</td>\n",
       "      <td>USD</td>\n",
       "      <td>154000</td>\n",
       "      <td>US</td>\n",
       "      <td>100</td>\n",
       "      <td>US</td>\n",
       "      <td>M</td>\n",
       "      <td>Data Engineer</td>\n",
       "      <td>394416.152450</td>\n",
       "    </tr>\n",
       "    <tr>\n",
       "      <th>603</th>\n",
       "      <td>2022</td>\n",
       "      <td>SE</td>\n",
       "      <td>Full-time</td>\n",
       "      <td>Data Engineer</td>\n",
       "      <td>4.848002</td>\n",
       "      <td>USD</td>\n",
       "      <td>126000</td>\n",
       "      <td>US</td>\n",
       "      <td>100</td>\n",
       "      <td>US</td>\n",
       "      <td>M</td>\n",
       "      <td>Data Engineer</td>\n",
       "      <td>356826.985196</td>\n",
       "    </tr>\n",
       "    <tr>\n",
       "      <th>604</th>\n",
       "      <td>2022</td>\n",
       "      <td>SE</td>\n",
       "      <td>Full-time</td>\n",
       "      <td>Data Analyst</td>\n",
       "      <td>4.850775</td>\n",
       "      <td>USD</td>\n",
       "      <td>129000</td>\n",
       "      <td>US</td>\n",
       "      <td>0</td>\n",
       "      <td>US</td>\n",
       "      <td>M</td>\n",
       "      <td>Data Analyst</td>\n",
       "      <td>361074.171346</td>\n",
       "    </tr>\n",
       "    <tr>\n",
       "      <th>605</th>\n",
       "      <td>2022</td>\n",
       "      <td>SE</td>\n",
       "      <td>Full-time</td>\n",
       "      <td>Data Analyst</td>\n",
       "      <td>4.868267</td>\n",
       "      <td>USD</td>\n",
       "      <td>150000</td>\n",
       "      <td>US</td>\n",
       "      <td>100</td>\n",
       "      <td>US</td>\n",
       "      <td>M</td>\n",
       "      <td>Data Analyst</td>\n",
       "      <td>389306.822476</td>\n",
       "    </tr>\n",
       "    <tr>\n",
       "      <th>606</th>\n",
       "      <td>2022</td>\n",
       "      <td>MI</td>\n",
       "      <td>Full-time</td>\n",
       "      <td>AI Scientist</td>\n",
       "      <td>4.900329</td>\n",
       "      <td>USD</td>\n",
       "      <td>200000</td>\n",
       "      <td>IN</td>\n",
       "      <td>100</td>\n",
       "      <td>US</td>\n",
       "      <td>L</td>\n",
       "      <td>Data Scientist</td>\n",
       "      <td>448254.460486</td>\n",
       "    </tr>\n",
       "  </tbody>\n",
       "</table>\n",
       "<p>607 rows × 13 columns</p>\n",
       "</div>"
      ],
      "text/plain": [
       "     work_year experience_level employment_type                   job_title  \\\n",
       "0         2020               MI       Full-time              Data Scientist   \n",
       "1         2020               SE       Full-time  Machine Learning Scientist   \n",
       "2         2020               SE       Full-time           Big Data Engineer   \n",
       "3         2020               MI       Full-time        Product Data Analyst   \n",
       "4         2020               SE       Full-time   Machine Learning Engineer   \n",
       "..         ...              ...             ...                         ...   \n",
       "602       2022               SE       Full-time               Data Engineer   \n",
       "603       2022               SE       Full-time               Data Engineer   \n",
       "604       2022               SE       Full-time                Data Analyst   \n",
       "605       2022               SE       Full-time                Data Analyst   \n",
       "606       2022               MI       Full-time                AI Scientist   \n",
       "\n",
       "       salary salary_currency  salary_in_usd employee_residence  remote_ratio  \\\n",
       "0    4.774751             EUR          79833                 DE             0   \n",
       "1    4.928142             USD         260000             Others             0   \n",
       "2    4.799819             GBP         109024                 GB            50   \n",
       "3    4.589866             USD          20000             Others             0   \n",
       "4    4.868267             USD         150000                 US            50   \n",
       "..        ...             ...            ...                ...           ...   \n",
       "602  4.871270             USD         154000                 US           100   \n",
       "603  4.848002             USD         126000                 US           100   \n",
       "604  4.850775             USD         129000                 US             0   \n",
       "605  4.868267             USD         150000                 US           100   \n",
       "606  4.900329             USD         200000                 IN           100   \n",
       "\n",
       "    company_location company_size          Updated_Job_Title  \\\n",
       "0                 DE            L             Data Scientist   \n",
       "1             Others            S  Machine Learning Engineer   \n",
       "2                 GB            M              Data Engineer   \n",
       "3             Others            S               Data Analyst   \n",
       "4                 US            L  Machine Learning Engineer   \n",
       "..               ...          ...                        ...   \n",
       "602               US            M              Data Engineer   \n",
       "603               US            M              Data Engineer   \n",
       "604               US            M               Data Analyst   \n",
       "605               US            M               Data Analyst   \n",
       "606               US            L             Data Scientist   \n",
       "\n",
       "     transformed_salary_in_usd  \n",
       "0                282298.507798  \n",
       "1                508303.346029  \n",
       "2                331608.782411  \n",
       "3                130268.251078  \n",
       "4                389306.822476  \n",
       "..                         ...  \n",
       "602              394416.152450  \n",
       "603              356826.985196  \n",
       "604              361074.171346  \n",
       "605              389306.822476  \n",
       "606              448254.460486  \n",
       "\n",
       "[607 rows x 13 columns]"
      ]
     },
     "execution_count": 26,
     "metadata": {},
     "output_type": "execute_result"
    }
   ],
   "source": [
    "df"
   ]
  },
  {
   "cell_type": "code",
   "execution_count": 27,
   "id": "62454092",
   "metadata": {},
   "outputs": [],
   "source": [
    "df.drop(columns=['salary','salary_in_usd','job_title','salary_currency'], inplace=True)"
   ]
  },
  {
   "cell_type": "code",
   "execution_count": 28,
   "id": "f329a57a",
   "metadata": {},
   "outputs": [],
   "source": [
    "df.rename(columns={'transformed_salary_in_usd':'salary'}, inplace = True)"
   ]
  },
  {
   "cell_type": "code",
   "execution_count": 29,
   "id": "fa9e0743",
   "metadata": {},
   "outputs": [],
   "source": [
    "df.to_csv('ds_feature_eng.csv', index= False)"
   ]
  },
  {
   "cell_type": "code",
   "execution_count": null,
   "id": "1977b52d",
   "metadata": {},
   "outputs": [],
   "source": []
  }
 ],
 "metadata": {
  "kernelspec": {
   "display_name": "Python 3 (ipykernel)",
   "language": "python",
   "name": "python3"
  },
  "language_info": {
   "codemirror_mode": {
    "name": "ipython",
    "version": 3
   },
   "file_extension": ".py",
   "mimetype": "text/x-python",
   "name": "python",
   "nbconvert_exporter": "python",
   "pygments_lexer": "ipython3",
   "version": "3.9.7"
  }
 },
 "nbformat": 4,
 "nbformat_minor": 5
}
